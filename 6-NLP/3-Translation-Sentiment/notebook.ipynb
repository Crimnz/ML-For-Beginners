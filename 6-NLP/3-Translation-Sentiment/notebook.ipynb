{
 "cells": [
  {
   "cell_type": "code",
   "execution_count": 88,
   "metadata": {},
   "outputs": [
    {
     "name": "stdout",
     "output_type": "stream",
     "text": [
      "The number of positive sentences are \u001b[1m1312\u001b[0m.\n",
      "The number of negative sentences are \u001b[1m373\u001b[0m.\n",
      "\n",
      "The book is \u001b[1m77%\u001b[0m positive.\n"
     ]
    }
   ],
   "source": [
    "from textblob import TextBlob\n",
    "\n",
    "class color:\n",
    "   PURPLE = '\\033[95m'\n",
    "   CYAN = '\\033[96m'\n",
    "   DARKCYAN = '\\033[36m'\n",
    "   BLUE = '\\033[94m'\n",
    "   GREEN = '\\033[92m'\n",
    "   YELLOW = '\\033[93m'\n",
    "   RED = '\\033[91m'\n",
    "   BOLD = '\\033[1m'\n",
    "   UNDERLINE = '\\033[4m'\n",
    "   END = '\\033[0m'\n",
    "\n",
    "# You should download the book text, clean it, and import it here\n",
    "with open(\"pride.txt\", encoding=\"utf8\") as f:\n",
    "    file_contents = f.read()\n",
    "book_pride = TextBlob(file_contents)\n",
    "positive_sentiment_sentences = []\n",
    "negative_sentiment_sentences = []\n",
    "neutral_sentiment_sentences = []\n",
    "for sentence in book_pride.sentences:\n",
    "    if sentence.sentiment.polarity > 0.2:\n",
    "        positive_sentiment_sentences.append(sentence)\n",
    "    if sentence.sentiment.polarity < -0.2:\n",
    "        negative_sentiment_sentences.append(sentence)\n",
    "\n",
    "    else: neutral_sentiment_sentences.append(sentence)\n",
    "\n",
    "\n",
    "n1= len(positive_sentiment_sentences)\n",
    "n2= len(negative_sentiment_sentences)\n",
    "n3= len(neutral_sentiment_sentences)\n",
    "\n",
    "# n= n1 + n2 + n3\n",
    "\n",
    "print(\"The number of positive sentences are \" + color.BOLD + str(len(positive_sentiment_sentences)) + color.END +\".\")\n",
    "print(\"The number of negative sentences are \" + color.BOLD + str(len(negative_sentiment_sentences)) + color.END +\".\")\n",
    "#print(\"The number of neutral sentences are \" + color.BOLD + str(len(neutral_sentiment_sentences)) + color.END + \".\")\n",
    "\n",
    "if n1 > n2 :\n",
    "    percent = (n1/(n1+n2)) *100 \n",
    "    print(\"\\n\" + \"The book is \"+ color.BOLD + str(int(percent)) + \"%\" + color.END + \" positive.\")\n",
    "else:\n",
    "        percent = (n2/(n1+n2)) *100 \n",
    "        print(\"\\n\" + \"The book is \"+ color.BOLD + str(int(percent)) + \"%\" + color.END + \" negative.\")\n",
    "# else:\n",
    "#     print(\"\\n\" + \"The book is \" + color.BOLD + \"Neutral\" + color.END)\n",
    "\n",
    "# print(\"The \" + str(len(positive_sentiment_sentences)) + \" most positive sentences:\")\n",
    "# for sentence in positive_sentiment_sentences:\n",
    "#     print(\"+ \" + str(sentence.replace(\"\\n\", \"\").replace(\"      \", \" \")))\n",
    "# print(\"The \" + str(len(negative_sentiment_sentences)) + \" most negative sentences:\")\n",
    "# for sentence in negative_sentiment_sentences:\n",
    "#     print(\"- \" + str(sentence.replace(\"\\n\", \"\").replace(\"      \", \" \")))\n",
    "\n",
    "# book_pride = TextBlob(\"I am disgusted you.\")\n",
    "# book_pride.sentiment.polarity"
   ]
  }
 ],
 "metadata": {
  "interpreter": {
   "hash": "e7370f93d1d0cde622a1f8e1c04877d8463912d04d973331ad4851f04de6915a"
  },
  "kernelspec": {
   "display_name": "Python 3.8.10 64-bit",
   "language": "python",
   "name": "python3"
  },
  "language_info": {
   "codemirror_mode": {
    "name": "ipython",
    "version": 3
   },
   "file_extension": ".py",
   "mimetype": "text/x-python",
   "name": "python",
   "nbconvert_exporter": "python",
   "pygments_lexer": "ipython3",
   "version": "3.8.10"
  },
  "orig_nbformat": 4
 },
 "nbformat": 4,
 "nbformat_minor": 2
}
